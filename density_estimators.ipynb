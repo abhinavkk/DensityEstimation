{
  "nbformat": 4,
  "nbformat_minor": 0,
  "metadata": {
    "colab": {
      "name": "Untitled4.ipynb",
      "provenance": []
    },
    "kernelspec": {
      "name": "python3",
      "display_name": "Python 3"
    },
    "language_info": {
      "name": "python"
    }
  },
  "cells": [
    {
      "cell_type": "markdown",
      "metadata": {
        "id": "Vmlsa88cqmib"
      },
      "source": [
        "## Exercise 1: Density estimation in 1D\n",
        "In this exercise, you will write code to estimate 1D densities.\n",
        "Specifically, you will write code to estimate a Gaussian density, a histogram density, and a kernel density."
      ]
    },
    {
      "cell_type": "markdown",
      "metadata": {
        "id": "vY5nT4jn7p8X"
      },
      "source": [
        "### Task 1.1: Gaussian density\n",
        "For this first one you will estimate a Gaussian density via MLE.\n",
        "As discussed in class, this simplifies to estimating the mean and standard devaition of the data and using these empirical estimates for the Gaussian distribution.\n",
        "The Gaussian PDF can be evaluated using the function [`scipy.stats.norm.pdf`](https://docs.scipy.org/doc/scipy/reference/generated/scipy.stats.norm.html)."
      ]
    },
    {
      "cell_type": "code",
      "metadata": {
        "id": "aNTDrlqo7p8Y"
      },
      "source": [
        "import numpy as np\n",
        "import scipy.stats as stats\n",
        "from sklearn.base import BaseEstimator\n",
        "class GaussianDensity(BaseEstimator):\n",
        "    def fit(self, X, y=None):\n",
        "        ##### Your code here #####\n",
        "        # You should estimate the mean and variance of the data  and save as self.mean_ and self.std_\n",
        "        # (note that X will be shape (n,1) because there is only 1 feature).\n",
        "        self.mean_ = np.mean(X)\n",
        "        self.std_ = np.std(X)\n",
        "        \n",
        "        ##########################\n",
        "        return self\n",
        "    \n",
        "    def predict_proba(self, X):\n",
        "        ##### Your code here #####\n",
        "        # This should return the PDF values for each sample in X (again of shape (n, 1))\n",
        "        # This should use your self.mean_ and self.std_ variables saved from the fit method\n",
        "        pdf_values = stats.norm.pdf(X, loc=self.mean_, scale=self.std_).reshape(-1)\n",
        "        return pdf_values  # Output should be of shape (n,), i.e., a 1D array\n",
        "        ##########################"
      ],
      "execution_count": null,
      "outputs": []
    },
    {
      "cell_type": "markdown",
      "metadata": {
        "id": "4RYPk9G_7p8b"
      },
      "source": [
        "### Task 1.2: Histogram density\n",
        "Now you will implement a histogram density estimate given min, max and number of bins.\n",
        "The function [`np.searchsorted`](https://numpy.org/doc/stable/reference/generated/numpy.searchsorted.html) may be useful but is not required.\n",
        "\n",
        "NOTE: The value of the histogram outside of the min max values should be set to 0."
      ]
    },
    {
      "cell_type": "code",
      "metadata": {
        "id": "vxRXzsFG7p8c"
      },
      "source": [
        "import numpy as np\n",
        "import scipy.stats\n",
        "from sklearn.base import BaseEstimator\n",
        "class HistogramDensity(BaseEstimator):\n",
        "    def __init__(self, n_bins, min_val, max_val):\n",
        "        self.n_bins = n_bins\n",
        "        self.min_val = min_val\n",
        "        self.max_val = max_val\n",
        "    \n",
        "    def fit(self, X, y=None):\n",
        "        ##### Your code here #####\n",
        "        # First create equally spaced bin_edges based on min_val, max_val and n_bins\n",
        "        #  and save as self.bin_edges_\n",
        "        #  (note the shape of self.bin_edges_ should be (n_bins+1,) )\n",
        "        # Second, estimate the frequency for each bin based on the input data X\n",
        "        #  (i.e., the number of training samples that fall into that bin divided \n",
        "        #  by the total number of samples)\n",
        "        # Third, using the probability for each bin, compute the density value (i.e., PDF) for\n",
        "        #  each bin. (Note you will have to account for the width of the bin to ensure\n",
        "        #  that integrating your density function from min_value to max_value will be 1).\n",
        "        #  Save the density per bin as self.pdf_per_bin_ which should have the shape (n_bins,)\n",
        "        self.bin_width_ = (self.max_val-self.min_val)/self.n_bins\n",
        "        self.bin_edges_ = [self.min_val + i*(self.bin_width_) for i in range(self.n_bins+1)]\n",
        "        self.bin_frequency_ = [0]*(self.n_bins+1)\n",
        "        for i in X:\n",
        "          if (i <= self.max_val or i >= self.min_val):\n",
        "            self.bin_frequency_[int((i-self.min_val)/self.bin_width_)] += 1\n",
        "        self.bin_frequency_ = [x/X.size for x in self.bin_frequency_]\n",
        "        self.pdf_per_bin_ = [x/self.bin_width_ for x in self.bin_frequency_]\n",
        "\n",
        "        \n",
        "        ##########################\n",
        "        return self\n",
        "    \n",
        "    def predict_proba(self, X):\n",
        "        ##### Your code here #####\n",
        "        # You should return the PDF value of the samples X.  This requires finding out which\n",
        "        #  bin each sample falls into and returning it's corresponding density value\n",
        "        #  **Importantly, if the value is less than min_value or greater than max_value, \n",
        "        #    then a pdf value of 0 should be returned.\n",
        "        pdf_values = np.array([])\n",
        "        for i in X:\n",
        "          if i > self.max_val or i < self.min_val:\n",
        "            pdf_values = np.append(pdf_values, 0)\n",
        "          else:\n",
        "            # print(f'{i} and bin = {int((i-self.min_val)/self.bin_width_)}')\n",
        "            pdf_values = np.append(pdf_values, self.pdf_per_bin_[int((i-self.min_val)/self.bin_width_)])  \n",
        "        return pdf_values  # Output should be of shape (n,), i.e., a 1D array\n",
        "        ##########################"
      ],
      "execution_count": null,
      "outputs": []
    },
    {
      "cell_type": "markdown",
      "metadata": {
        "id": "5GvrriLQ7p8f"
      },
      "source": [
        "### Task 1.3: Kernel density\n",
        "Now you will implement a kernel density estimate (KDE) via a Gaussian kernel given the bandwidth parameter (i.e., the standard deviation of the Gaussian kernel.\n",
        "Specifically, the Gaussian kernel density is given by:\n",
        "$$p(x; \\mathcal{D}) = \\frac{1}{n}\\sum_{i=1}^n p_{\\mathcal{N}}(x; \\mu = x_i, \\sigma=h) $$\n",
        "where $\\mathcal{D}=\\{x_i\\}_{i=1}^n$ is a training dataset of $n$ samples, $p_{\\mathcal{N}}$ is the Gaussian/normal density function and $h$ is called the bandwidth hyperparameter of the KDE model.\n",
        "(Note that fitting merely requires saving the training dataset and using it to compute densities of new samples.)"
      ]
    },
    {
      "cell_type": "code",
      "metadata": {
        "id": "i85ug0dg7p8h"
      },
      "source": [
        "import numpy as np\n",
        "import scipy.stats as stats\n",
        "from sklearn.base import BaseEstimator\n",
        "class KernelDensity(BaseEstimator):\n",
        "    def __init__(self, bandwidth):\n",
        "        self.bandwidth = bandwidth\n",
        "    \n",
        "    def fit(self, X, y=None):\n",
        "        ##### Your code here #####\n",
        "        # Save the training data in self.X_train_\n",
        "        self.X_train_ = X\n",
        "        ##########################\n",
        "        return self\n",
        "    \n",
        "    def predict_proba(self, X):\n",
        "        ##### Your code here #####\n",
        "        # You should return the KDE PDF value of the samples X.\n",
        "        #  Note that the sum above is over the TRAINING samples, not the test samples\n",
        "        #  so you should use the samples saved in the fit method.\n",
        "        pdf_values = np.array([])\n",
        "        gaussian_kernel = []\n",
        "        for i in X:\n",
        "          pdf_values = np.append(pdf_values, np.sum([stats.norm.pdf(i, mean, self.bandwidth) for mean in self.X_train_])/len(self.X_train_))\n",
        "        return pdf_values  # Output should be of shape (n,), i.e., a 1D array\n",
        "        ##########################"
      ],
      "execution_count": null,
      "outputs": []
    },
    {
      "cell_type": "markdown",
      "metadata": {
        "id": "F6Bhbrdt7p8i"
      },
      "source": [
        "### Test code\n",
        "The following code will test each of your density estimators.\n",
        "Run this to test your code and this is what will be used for grading your code."
      ]
    },
    {
      "cell_type": "code",
      "metadata": {
        "scrolled": false,
        "colab": {
          "base_uri": "https://localhost:8080/"
        },
        "id": "iCk02vvf7p8j",
        "outputId": "da53d41d-0323-4be8-9382-6e8ab7616afc"
      },
      "source": [
        "import scipy.stats\n",
        "import matplotlib.pyplot as plt\n",
        "from sklearn.model_selection import train_test_split\n",
        "# Generate some data and split into train and test\n",
        "min_val, max_val = -5, 5\n",
        "diff = max_val - min_val\n",
        "X = diff * np.vstack([scipy.stats.beta(6,1).rvs(size=(300,1)), scipy.stats.beta(2,7).rvs(size=(100,1))]) - diff/2\n",
        "X_train, X_test = train_test_split(X, test_size=0.5, random_state=15)\n",
        "print(X_train.shape, X_test.shape)\n",
        "\n",
        "# Loop through models\n",
        "models = [GaussianDensity(), \n",
        "          HistogramDensity(n_bins=15, min_val=min_val, max_val=max_val),\n",
        "          KernelDensity(bandwidth=1)\n",
        "         ]\n",
        "for model in models:\n",
        "    print(f'Fitting {type(model).__name__} model')\n",
        "    # Fit models\n",
        "    model.fit(X_train)\n",
        "\n",
        "    # Sanity checks \n",
        "    xq = np.linspace(min_val-diff, max_val+diff, num=1000)\n",
        "    pdf_vals = model.predict_proba(xq.reshape(-1, 1))\n",
        "    # Check that right size and >= 0\n",
        "    print(f'{len(pdf_vals.shape) == 1 and pdf_vals.shape[0] == len(xq)}, Shape={pdf_vals.shape}'\n",
        "          f' - Is the output the correct shape?') \n",
        "    print(f'{np.all(pdf_vals>=0)}, Num neg={np.sum(pdf_vals < 0)} - Are all pdf values >= 0? ')\n",
        "    \n",
        "    # Check that integrates to 1 vai approximate numerical integration\n",
        "    model_pdf = lambda x: model.predict_proba(np.array(x).reshape(1,1))[0]\n",
        "    quad_out = scipy.integrate.quad(model_pdf, min_val - diff, max_val + diff, limit=100, full_output=True)\n",
        "    print(f'{np.abs(quad_out[0] - 1) < 1e-4}, quad_out={quad_out[0]} - Does the PDF integrate to 1? ')\n",
        "    print('')\n",
        "\n",
        "    # Plot density model\n",
        "    plt.plot(xq, pdf_vals, label=type(model).__name__)\n",
        "    \n",
        "plt.legend()"
      ],
      "execution_count": null,
      "outputs": [
        {
          "output_type": "stream",
          "name": "stdout",
          "text": [
            "(200, 1) (200, 1)\n",
            "Fitting GaussianDensity model\n",
            "True, Shape=(1000,) - Is the output the correct shape?\n",
            "True, Num neg=0 - Are all pdf values >= 0? \n",
            "True, quad_out=0.9999863380860112 - Does the PDF integrate to 1? \n",
            "\n",
            "Fitting HistogramDensity model\n",
            "True, Shape=(1000,) - Is the output the correct shape?\n",
            "True, Num neg=0 - Are all pdf values >= 0? \n",
            "True, quad_out=1.0000607353374542 - Does the PDF integrate to 1? \n",
            "\n",
            "Fitting KernelDensity model\n",
            "True, Shape=(1000,) - Is the output the correct shape?\n",
            "True, Num neg=0 - Are all pdf values >= 0? \n",
            "True, quad_out=1.0 - Does the PDF integrate to 1? \n",
            "\n"
          ]
        },
        {
          "output_type": "execute_result",
          "data": {
            "text/plain": [
              "<matplotlib.legend.Legend at 0x7fc840a95b50>"
            ]
          },
          "metadata": {},
          "execution_count": 4
        },
        {
          "output_type": "display_data",
          "data": {
            "image/png": "[encoded data removed]",
            "text/plain": [
              "<Figure size 432x288 with 1 Axes>"
            ]
          },
          "metadata": {
            "needs_background": "light"
          }
        }
      ]
    }
  ]
}