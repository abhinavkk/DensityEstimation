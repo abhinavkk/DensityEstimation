{
  "nbformat": 4,
  "nbformat_minor": 0,
  "metadata": {
    "colab": {
      "name": "Untitled3.ipynb",
      "provenance": []
    },
    "kernelspec": {
      "name": "python3",
      "display_name": "Python 3"
    },
    "language_info": {
      "name": "python"
    }
  },
  "cells": [
    {
      "cell_type": "markdown",
      "metadata": {
        "id": "Hcdyz3Em7p8k"
      },
      "source": [
        "## Exercise 2: Determine optimal hyperparameters based on 10-fold cross validation\n",
        "In this exercise, you need to write code that will use your estimators from above to automatically choose the best hyperparameters for the histogram and kernel density estimator.  In particular, find the best `n_bins` and `bandwidth` for the histogram and KDE respectively.\n",
        "\n",
        "### Task 1: Implement custom scorer function for use in GridSearchCV\n",
        "To do this, you will need to implement a `scorer` function that will compute the log likelihood of the data given (higher is better).\n",
        "This function takes in the model, the input data X and y_true (which defaults to None since this is an unsupervised problem)."
      ]
    },
    {
      "cell_type": "code",
      "metadata": {
        "id": "nuEYDV7E7p8l"
      },
      "source": [
        "def mean_log_likelihood_scorer(model, X, y_true=None):\n",
        "    ########## Your code here ########\n",
        "    # Compute and return the mean log probability of the data\n",
        "    #  (Note y_true is not used)\n",
        "    predictions = model.predict_proba(X)\n",
        "    mean_ll = np.mean(np.log(predictions))\n",
        "    return mean_ll\n",
        "    ############"
      ],
      "execution_count": null,
      "outputs": []
    },
    {
      "cell_type": "markdown",
      "metadata": {
        "id": "b8r_yIXO7p8m"
      },
      "source": [
        "### Task 2: Estimate best hyperparameters\n",
        "Then you can use sklearn's cross validation utilities to cross validate using the training data to determine the best parameters by passing this function as the `scoring` argument of GridSearchCV (note you just pass it directly as `mean_log_likelihood_scorer` without the parenthesis; this is known as passing a function to another function).\n",
        "\n",
        "You should try 2-20 number of bins and a 50 bandwidth parameters linearly spaced between 0.1 and 10.\n",
        "\n",
        "Finally, print out the optimal hyperparameters and, using the optimal hyperparameters, print out the log likelihood of the test data for both the histogram and KDE model."
      ]
    },
    {
      "cell_type": "code",
      "metadata": {
        "colab": {
          "base_uri": "https://localhost:8080/"
        },
        "id": "mNVfDgfX7p8m",
        "outputId": "a01b3986-fb5a-4fa1-96bb-badf547f9282"
      },
      "source": [
        "from sklearn.model_selection import GridSearchCV\n",
        "\n",
        "grid_histogram = {\n",
        "    'n_bins' : [i for i in range(2, 21)]\n",
        "}\n",
        "\n",
        "grid_kde = {\n",
        "    'bandwidth' : np.linspace(0.1, 10, 50)\n",
        "}\n",
        "\n",
        "histogram_cv = GridSearchCV(HistogramDensity(n_bins=15, min_val=min_val, max_val=max_val),\n",
        "                            grid_histogram,\n",
        "                            cv = 5,\n",
        "                            scoring = mean_log_likelihood_scorer)\n",
        "result = histogram_cv.fit(X_train)\n",
        "print(f'The best parameters are {histogram_cv.best_params_}')\n",
        "print(f'The best accuracy on the testing data is {histogram_cv.score(X_test)}')\n",
        "\n",
        "kde_cv = GridSearchCV(KernelDensity(bandwidth=1),\n",
        "                      grid_kde,\n",
        "                      cv=5,\n",
        "                      scoring = mean_log_likelihood_scorer)\n",
        "result = kde_cv.fit(X_train)\n",
        "print(f'The best parameters are {kde_cv.best_params_}')\n",
        "print(f'The best accuracy on the testing data is {kde_cv.score(X_test)}')\n"
      ],
      "execution_count": null,
      "outputs": [
        {
          "output_type": "stream",
          "name": "stdout",
          "text": [
            "The best parameters are {'n_bins': 14}\n",
            "The best accuracy on the testing data is -2.6758365586689674\n",
            "The best parameters are {'bandwidth': 0.3020408163265306}\n",
            "The best accuracy on the testing data is -1.9960199163901615\n"
          ]
        }
      ]
    },
    {
      "cell_type": "code",
      "metadata": {
        "id": "YCYSw0UTlNrs"
      },
      "source": [
        ""
      ],
      "execution_count": null,
      "outputs": []
    }
  ]
}